{
 "cells": [
  {
   "cell_type": "code",
   "execution_count": 1,
   "metadata": {},
   "outputs": [
    {
     "name": "stderr",
     "output_type": "stream",
     "text": [
      "[nltk_data] Downloading package wordnet to\n",
      "[nltk_data]     C:\\Users\\admin\\AppData\\Roaming\\nltk_data...\n",
      "[nltk_data]   Package wordnet is already up-to-date!\n"
     ]
    },
    {
     "data": {
      "text/plain": [
       "True"
      ]
     },
     "execution_count": 1,
     "metadata": {},
     "output_type": "execute_result"
    }
   ],
   "source": [
    "import nltk\n",
    "nltk.download('wordnet')"
   ]
  },
  {
   "cell_type": "code",
   "execution_count": 2,
   "metadata": {},
   "outputs": [],
   "source": [
    "#import nltk\n",
    "import pandas as pd\n",
    "import numpy as np\n",
    "import re\n",
    "from nltk.corpus import wordnet as wn\n",
    "import matplotlib as mpl\n",
    "mpl.use('agg')\n",
    "%matplotlib inline\n",
    "import matplotlib.pyplot as plt\n",
    "import operator"
   ]
  },
  {
   "cell_type": "code",
   "execution_count": 3,
   "metadata": {},
   "outputs": [],
   "source": [
    "data = pd.read_csv('tweets-dataset.csv')"
   ]
  },
  {
   "cell_type": "code",
   "execution_count": 4,
   "metadata": {},
   "outputs": [],
   "source": [
    "#Data Cleaning\n",
    "for i in range(len(data)):\n",
    "    data['Sentence'][i] = data['Sentence'][i].lower()\n",
    "    data['Sentence'][i] = re.sub(r'[@#]\\S*','',data['Sentence'][i] ) #Removing usernames and hashtags\n",
    "    data['Sentence'][i] = re.sub(r'\\n*','',data['Sentence'][i] ) #Removing newlines\n",
    "    data['Sentence'][i] = re.sub(r'http\\S*','',data['Sentence'][i] ) #Removing hyperlinks\n",
    "    data['Sentence'][i] = re.sub(r'pic\\.\\S*','',data['Sentence'][i] ) #Removing links to photos in twitter\n",
    "    data['Sentence'][i] = re.sub(r':[|)(DPpoOvV3]','',data['Sentence'][i] ) #Removing emoticons\n",
    "    data['Sentence'][i] = re.sub(r'[!$%&?_;/<>()\"\\.:,-\\\\]','',data['Sentence'][i] ) #removing special characters"
   ]
  },
  {
   "cell_type": "code",
   "execution_count": 5,
   "metadata": {},
   "outputs": [
    {
     "name": "stdout",
     "output_type": "stream",
     "text": [
      "ASSIGNMENT - 1\n",
      "NAME: Kavita Vaishnaw\n",
      "ROLL NO.: 17110073\n",
      "\n",
      "\n",
      "\n"
     ]
    }
   ],
   "source": [
    "print('ASSIGNMENT - 1')\n",
    "print('NAME: Kavita Vaishnaw')\n",
    "print('ROLL NO.: 17110073')\n",
    "print('\\n\\n')"
   ]
  },
  {
   "cell_type": "code",
   "execution_count": 6,
   "metadata": {},
   "outputs": [
    {
     "name": "stdout",
     "output_type": "stream",
     "text": [
      "Number of Tokens: 288377\n"
     ]
    }
   ],
   "source": [
    "# Creating tokens\n",
    "tokens=[]\n",
    "for i in range(len(data)):\n",
    "    tokens = tokens + nltk.word_tokenize(data['Sentence'][i])\n",
    "print('Number of Tokens:', len(tokens))"
   ]
  },
  {
   "cell_type": "code",
   "execution_count": 7,
   "metadata": {},
   "outputs": [],
   "source": [
    "#Creating types from tokens\n",
    "tokens_uniq = np.array(tokens)\n",
    "tokens_uniq=np.unique(tokens_uniq)"
   ]
  },
  {
   "cell_type": "code",
   "execution_count": 8,
   "metadata": {},
   "outputs": [
    {
     "name": "stdout",
     "output_type": "stream",
     "text": [
      "Number of Types: 32474\n"
     ]
    }
   ],
   "source": [
    "types = list(tokens_uniq)\n",
    "print('Number of Types:', len(types))"
   ]
  },
  {
   "cell_type": "code",
   "execution_count": 9,
   "metadata": {},
   "outputs": [
    {
     "name": "stdout",
     "output_type": "stream",
     "text": [
      "Type-Token Ratio: 0.11260953543451802\n"
     ]
    }
   ],
   "source": [
    "# Computing ttr\n",
    "ttr = len(types)/len(tokens)\n",
    "print('Type-Token Ratio: '+ str(ttr))"
   ]
  },
  {
   "cell_type": "code",
   "execution_count": 10,
   "metadata": {},
   "outputs": [],
   "source": [
    "# computing frequency of all tokens\n",
    "counts = [(w, tokens.count(w)) for w in types]"
   ]
  },
  {
   "cell_type": "code",
   "execution_count": 11,
   "metadata": {},
   "outputs": [],
   "source": [
    "y_val = [len(x[0]) for x in counts]\n",
    "x_val = [x[1] for x in counts]"
   ]
  },
  {
   "cell_type": "code",
   "execution_count": 12,
   "metadata": {},
   "outputs": [
    {
     "name": "stdout",
     "output_type": "stream",
     "text": [
      "Checking if Zipf's Law for Length holds True\n",
      "\n"
     ]
    },
    {
     "data": {
      "image/png": "[encoded data removed]",
      "text/plain": [
       "<Figure size 720x504 with 1 Axes>"
      ]
     },
     "metadata": {
      "needs_background": "light"
     },
     "output_type": "display_data"
    }
   ],
   "source": [
    "# plotting zipf's law of length\n",
    "print('Checking if Zipf\\'s Law for Length holds True\\n')\n",
    "plt.figure(figsize = (10,7))\n",
    "plt.scatter(x_val, y_val)\n",
    "plt.title('Zipf\\'s Law for Length')\n",
    "plt.xlabel('Frequency of word')\n",
    "plt.ylabel('Length of word')\n",
    "plt.show()"
   ]
  },
  {
   "cell_type": "code",
   "execution_count": 13,
   "metadata": {},
   "outputs": [],
   "source": [
    "# sort counts according to frquency in descending order\n",
    "counts.sort(key = operator.itemgetter(1), reverse = True)"
   ]
  },
  {
   "cell_type": "code",
   "execution_count": 14,
   "metadata": {},
   "outputs": [],
   "source": [
    "# make a dictionary with key as word and value as its frequency\n",
    "dict_counts = dict(counts)"
   ]
  },
  {
   "cell_type": "code",
   "execution_count": 15,
   "metadata": {},
   "outputs": [],
   "source": [
    "# words randomly chosen for zipf's law of meaning\n",
    "words_chosen = ['league', 'trend','batting', 'girls', 'president', 'let', 'old', 'watching', 'days', 'miss', 'even', 'watch', 'show', 'think', 'last', 'free']\n",
    "#len(words_chosen)=16"
   ]
  },
  {
   "cell_type": "code",
   "execution_count": 16,
   "metadata": {},
   "outputs": [],
   "source": [
    "x_val = [np.sqrt(dict_counts[word]) for word in words_chosen]\n",
    "#x_val"
   ]
  },
  {
   "cell_type": "code",
   "execution_count": 17,
   "metadata": {},
   "outputs": [],
   "source": [
    "y_val = [len(wn.synsets(word)) for word in words_chosen]\n",
    "#y_val\n"
   ]
  },
  {
   "cell_type": "code",
   "execution_count": 18,
   "metadata": {
    "scrolled": true
   },
   "outputs": [
    {
     "name": "stdout",
     "output_type": "stream",
     "text": [
      "Checking if Zipf's Law for Meanings holds True\n",
      "\n"
     ]
    },
    {
     "data": {
      "image/png": "[encoded data removed]",
      "text/plain": [
       "<Figure size 720x360 with 1 Axes>"
      ]
     },
     "metadata": {
      "needs_background": "light"
     },
     "output_type": "display_data"
    }
   ],
   "source": [
    "print('Checking if Zipf\\'s Law for Meanings holds True\\n')\n",
    "plt.figure(figsize = (10,5))\n",
    "plt.scatter(x_val, y_val)\n",
    "plt.title('Zipf\\'s Law for Meanings')\n",
    "plt.ylabel('Number of Meanings of the Word')\n",
    "plt.xlabel('Square Root of Frequency')\n",
    "for i, txt in enumerate(words_chosen):\n",
    "    plt.annotate(txt, (x_val[i], y_val[i]))\n",
    "plt.show()"
   ]
  },
  {
   "cell_type": "code",
   "execution_count": 19,
   "metadata": {},
   "outputs": [],
   "source": [
    "# plotting heaps' law\n",
    "corpus_size=[]\n",
    "vocab_size=[]\n",
    "i = 0\n",
    "vocab = set()\n",
    "for word in tokens:\n",
    "    vocab.add(word)\n",
    "    i += 1\n",
    "    corpus_size.append(i)\n",
    "    vocab_size.append(len(vocab))\n"
   ]
  },
  {
   "cell_type": "code",
   "execution_count": 20,
   "metadata": {},
   "outputs": [
    {
     "name": "stdout",
     "output_type": "stream",
     "text": [
      "Plotting Heaps' Law\n",
      "\n"
     ]
    },
    {
     "data": {
      "image/png": "[encoded data removed]",
      "text/plain": [
       "<Figure size 1080x504 with 1 Axes>"
      ]
     },
     "metadata": {
      "needs_background": "light"
     },
     "output_type": "display_data"
    }
   ],
   "source": [
    "print('Plotting Heaps\\' Law\\n')\n",
    "plt.figure(figsize = (15,7))\n",
    "plt.scatter(corpus_size, vocab_size)\n",
    "plt.title('Heaps\\' Law')\n",
    "plt.ylabel('Vocabulary Size |V|')\n",
    "plt.xlabel('Corpus Size N')\n",
    "plt.show()"
   ]
  }
 ],
 "metadata": {
  "kernelspec": {
   "display_name": "Python 3",
   "language": "python",
   "name": "python3"
  },
  "language_info": {
   "codemirror_mode": {
    "name": "ipython",
    "version": 3
   },
   "file_extension": ".py",
   "mimetype": "text/x-python",
   "name": "python",
   "nbconvert_exporter": "python",
   "pygments_lexer": "ipython3",
   "version": "3.7.3"
  }
 },
 "nbformat": 4,
 "nbformat_minor": 2
}
